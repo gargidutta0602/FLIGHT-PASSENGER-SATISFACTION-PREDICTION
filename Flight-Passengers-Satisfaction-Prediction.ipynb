{
 "cells": [
  {
   "cell_type": "code",
   "execution_count": 1,
   "id": "afcfaf14",
   "metadata": {},
   "outputs": [],
   "source": [
    "import pandas as pd \n",
    "import numpy as np\n",
    "import seaborn as sns\n",
    "import matplotlib.pyplot as plt                                     # Importing pyplot interface using matplotlib\n",
    "%matplotlib inline"
   ]
  },
  {
   "cell_type": "code",
   "execution_count": 2,
   "id": "7f2f35ac",
   "metadata": {},
   "outputs": [],
   "source": [
    "data_train = pd.read_csv(\"C:/Users/gargi/OneDrive/Desktop/Flight-Passengers-Satisfaction-Prediction/cust_train.csv\")"
   ]
  },
  {
   "cell_type": "code",
   "execution_count": 3,
   "id": "b62c48f9",
   "metadata": {},
   "outputs": [],
   "source": [
    "data_test = pd.read_csv(\"C:/Users/gargi/OneDrive/Desktop/Flight-Passengers-Satisfaction-Prediction/cust_test.csv\")"
   ]
  },
  {
   "cell_type": "code",
   "execution_count": 4,
   "id": "2be682a4",
   "metadata": {},
   "outputs": [
    {
     "name": "stdout",
     "output_type": "stream",
     "text": [
      "<class 'pandas.core.frame.DataFrame'>\n",
      "RangeIndex: 83123 entries, 0 to 83122\n",
      "Data columns (total 24 columns):\n",
      " #   Column                             Non-Null Count  Dtype  \n",
      "---  ------                             --------------  -----  \n",
      " 0   id                                 83123 non-null  int64  \n",
      " 1   Gender                             83123 non-null  object \n",
      " 2   Customer Type                      83123 non-null  object \n",
      " 3   Age                                83123 non-null  int64  \n",
      " 4   Type of Travel                     83123 non-null  object \n",
      " 5   Class                              83123 non-null  object \n",
      " 6   Flight Distance                    83123 non-null  int64  \n",
      " 7   Inflight wifi service              83123 non-null  int64  \n",
      " 8   Departure/Arrival time convenient  83123 non-null  int64  \n",
      " 9   Ease of Online booking             83123 non-null  int64  \n",
      " 10  Gate location                      83123 non-null  int64  \n",
      " 11  Food and drink                     83123 non-null  int64  \n",
      " 12  Online boarding                    83123 non-null  int64  \n",
      " 13  Seat comfort                       83123 non-null  int64  \n",
      " 14  Inflight entertainment             83123 non-null  int64  \n",
      " 15  On-board service                   83123 non-null  int64  \n",
      " 16  Leg room service                   83123 non-null  int64  \n",
      " 17  Baggage handling                   83123 non-null  int64  \n",
      " 18  Checkin service                    83123 non-null  int64  \n",
      " 19  Inflight service                   83123 non-null  int64  \n",
      " 20  Cleanliness                        83123 non-null  int64  \n",
      " 21  Departure Delay in Minutes         83123 non-null  int64  \n",
      " 22  Arrival Delay in Minutes           82872 non-null  float64\n",
      " 23  satisfaction                       83123 non-null  object \n",
      "dtypes: float64(1), int64(18), object(5)\n",
      "memory usage: 15.2+ MB\n"
     ]
    }
   ],
   "source": [
    "data_train.info()"
   ]
  },
  {
   "cell_type": "code",
   "execution_count": 5,
   "id": "d63b3fd4",
   "metadata": {},
   "outputs": [
    {
     "data": {
      "text/html": [
       "<div>\n",
       "<style scoped>\n",
       "    .dataframe tbody tr th:only-of-type {\n",
       "        vertical-align: middle;\n",
       "    }\n",
       "\n",
       "    .dataframe tbody tr th {\n",
       "        vertical-align: top;\n",
       "    }\n",
       "\n",
       "    .dataframe thead th {\n",
       "        text-align: right;\n",
       "    }\n",
       "</style>\n",
       "<table border=\"1\" class=\"dataframe\">\n",
       "  <thead>\n",
       "    <tr style=\"text-align: right;\">\n",
       "      <th></th>\n",
       "      <th>id</th>\n",
       "      <th>Gender</th>\n",
       "      <th>Customer Type</th>\n",
       "      <th>Age</th>\n",
       "      <th>Type of Travel</th>\n",
       "      <th>Class</th>\n",
       "      <th>Flight Distance</th>\n",
       "      <th>Inflight wifi service</th>\n",
       "      <th>Departure/Arrival time convenient</th>\n",
       "      <th>Ease of Online booking</th>\n",
       "      <th>...</th>\n",
       "      <th>Inflight entertainment</th>\n",
       "      <th>On-board service</th>\n",
       "      <th>Leg room service</th>\n",
       "      <th>Baggage handling</th>\n",
       "      <th>Checkin service</th>\n",
       "      <th>Inflight service</th>\n",
       "      <th>Cleanliness</th>\n",
       "      <th>Departure Delay in Minutes</th>\n",
       "      <th>Arrival Delay in Minutes</th>\n",
       "      <th>satisfaction</th>\n",
       "    </tr>\n",
       "  </thead>\n",
       "  <tbody>\n",
       "    <tr>\n",
       "      <th>0</th>\n",
       "      <td>51032</td>\n",
       "      <td>Female</td>\n",
       "      <td>Loyal Customer</td>\n",
       "      <td>30</td>\n",
       "      <td>Personal Travel</td>\n",
       "      <td>Eco</td>\n",
       "      <td>193</td>\n",
       "      <td>3</td>\n",
       "      <td>4</td>\n",
       "      <td>0</td>\n",
       "      <td>...</td>\n",
       "      <td>5</td>\n",
       "      <td>4</td>\n",
       "      <td>5</td>\n",
       "      <td>3</td>\n",
       "      <td>4</td>\n",
       "      <td>4</td>\n",
       "      <td>5</td>\n",
       "      <td>0</td>\n",
       "      <td>0.0</td>\n",
       "      <td>neutral or dissatisfied</td>\n",
       "    </tr>\n",
       "    <tr>\n",
       "      <th>1</th>\n",
       "      <td>54504</td>\n",
       "      <td>Female</td>\n",
       "      <td>Loyal Customer</td>\n",
       "      <td>51</td>\n",
       "      <td>Business travel</td>\n",
       "      <td>Eco</td>\n",
       "      <td>925</td>\n",
       "      <td>2</td>\n",
       "      <td>1</td>\n",
       "      <td>1</td>\n",
       "      <td>...</td>\n",
       "      <td>2</td>\n",
       "      <td>2</td>\n",
       "      <td>2</td>\n",
       "      <td>2</td>\n",
       "      <td>3</td>\n",
       "      <td>2</td>\n",
       "      <td>3</td>\n",
       "      <td>47</td>\n",
       "      <td>29.0</td>\n",
       "      <td>neutral or dissatisfied</td>\n",
       "    </tr>\n",
       "    <tr>\n",
       "      <th>2</th>\n",
       "      <td>13387</td>\n",
       "      <td>Male</td>\n",
       "      <td>disloyal Customer</td>\n",
       "      <td>27</td>\n",
       "      <td>Business travel</td>\n",
       "      <td>Eco</td>\n",
       "      <td>505</td>\n",
       "      <td>0</td>\n",
       "      <td>0</td>\n",
       "      <td>0</td>\n",
       "      <td>...</td>\n",
       "      <td>1</td>\n",
       "      <td>5</td>\n",
       "      <td>5</td>\n",
       "      <td>2</td>\n",
       "      <td>3</td>\n",
       "      <td>2</td>\n",
       "      <td>1</td>\n",
       "      <td>0</td>\n",
       "      <td>0.0</td>\n",
       "      <td>satisfied</td>\n",
       "    </tr>\n",
       "    <tr>\n",
       "      <th>3</th>\n",
       "      <td>17388</td>\n",
       "      <td>Female</td>\n",
       "      <td>Loyal Customer</td>\n",
       "      <td>52</td>\n",
       "      <td>Business travel</td>\n",
       "      <td>Business</td>\n",
       "      <td>2953</td>\n",
       "      <td>2</td>\n",
       "      <td>2</td>\n",
       "      <td>2</td>\n",
       "      <td>...</td>\n",
       "      <td>5</td>\n",
       "      <td>5</td>\n",
       "      <td>5</td>\n",
       "      <td>5</td>\n",
       "      <td>4</td>\n",
       "      <td>5</td>\n",
       "      <td>5</td>\n",
       "      <td>10</td>\n",
       "      <td>2.0</td>\n",
       "      <td>satisfied</td>\n",
       "    </tr>\n",
       "    <tr>\n",
       "      <th>4</th>\n",
       "      <td>91598</td>\n",
       "      <td>Female</td>\n",
       "      <td>disloyal Customer</td>\n",
       "      <td>15</td>\n",
       "      <td>Business travel</td>\n",
       "      <td>Eco</td>\n",
       "      <td>1352</td>\n",
       "      <td>4</td>\n",
       "      <td>4</td>\n",
       "      <td>4</td>\n",
       "      <td>...</td>\n",
       "      <td>2</td>\n",
       "      <td>4</td>\n",
       "      <td>3</td>\n",
       "      <td>5</td>\n",
       "      <td>3</td>\n",
       "      <td>5</td>\n",
       "      <td>2</td>\n",
       "      <td>0</td>\n",
       "      <td>0.0</td>\n",
       "      <td>satisfied</td>\n",
       "    </tr>\n",
       "  </tbody>\n",
       "</table>\n",
       "<p>5 rows × 24 columns</p>\n",
       "</div>"
      ],
      "text/plain": [
       "      id  Gender      Customer Type  Age   Type of Travel     Class  \\\n",
       "0  51032  Female     Loyal Customer   30  Personal Travel       Eco   \n",
       "1  54504  Female     Loyal Customer   51  Business travel       Eco   \n",
       "2  13387    Male  disloyal Customer   27  Business travel       Eco   \n",
       "3  17388  Female     Loyal Customer   52  Business travel  Business   \n",
       "4  91598  Female  disloyal Customer   15  Business travel       Eco   \n",
       "\n",
       "   Flight Distance  Inflight wifi service  Departure/Arrival time convenient  \\\n",
       "0              193                      3                                  4   \n",
       "1              925                      2                                  1   \n",
       "2              505                      0                                  0   \n",
       "3             2953                      2                                  2   \n",
       "4             1352                      4                                  4   \n",
       "\n",
       "   Ease of Online booking  ...  Inflight entertainment  On-board service  \\\n",
       "0                       0  ...                       5                 4   \n",
       "1                       1  ...                       2                 2   \n",
       "2                       0  ...                       1                 5   \n",
       "3                       2  ...                       5                 5   \n",
       "4                       4  ...                       2                 4   \n",
       "\n",
       "   Leg room service  Baggage handling  Checkin service  Inflight service  \\\n",
       "0                 5                 3                4                 4   \n",
       "1                 2                 2                3                 2   \n",
       "2                 5                 2                3                 2   \n",
       "3                 5                 5                4                 5   \n",
       "4                 3                 5                3                 5   \n",
       "\n",
       "   Cleanliness  Departure Delay in Minutes  Arrival Delay in Minutes  \\\n",
       "0            5                           0                       0.0   \n",
       "1            3                          47                      29.0   \n",
       "2            1                           0                       0.0   \n",
       "3            5                          10                       2.0   \n",
       "4            2                           0                       0.0   \n",
       "\n",
       "              satisfaction  \n",
       "0  neutral or dissatisfied  \n",
       "1  neutral or dissatisfied  \n",
       "2                satisfied  \n",
       "3                satisfied  \n",
       "4                satisfied  \n",
       "\n",
       "[5 rows x 24 columns]"
      ]
     },
     "execution_count": 5,
     "metadata": {},
     "output_type": "execute_result"
    }
   ],
   "source": [
    "data_train.head()"
   ]
  },
  {
   "cell_type": "code",
   "execution_count": 6,
   "id": "28544a08",
   "metadata": {},
   "outputs": [
    {
     "data": {
      "text/plain": [
       "id                                     0\n",
       "Gender                                 0\n",
       "Customer Type                          0\n",
       "Age                                    0\n",
       "Type of Travel                         0\n",
       "Class                                  0\n",
       "Flight Distance                        0\n",
       "Inflight wifi service                  0\n",
       "Departure/Arrival time convenient      0\n",
       "Ease of Online booking                 0\n",
       "Gate location                          0\n",
       "Food and drink                         0\n",
       "Online boarding                        0\n",
       "Seat comfort                           0\n",
       "Inflight entertainment                 0\n",
       "On-board service                       0\n",
       "Leg room service                       0\n",
       "Baggage handling                       0\n",
       "Checkin service                        0\n",
       "Inflight service                       0\n",
       "Cleanliness                            0\n",
       "Departure Delay in Minutes             0\n",
       "Arrival Delay in Minutes             251\n",
       "satisfaction                           0\n",
       "dtype: int64"
      ]
     },
     "execution_count": 6,
     "metadata": {},
     "output_type": "execute_result"
    }
   ],
   "source": [
    "data_train.isnull().sum()"
   ]
  },
  {
   "cell_type": "code",
   "execution_count": 7,
   "id": "7a5cf25e",
   "metadata": {},
   "outputs": [
    {
     "data": {
      "text/plain": [
       "id                                    0\n",
       "Gender                                0\n",
       "Customer Type                         0\n",
       "Age                                   0\n",
       "Type of Travel                        0\n",
       "Class                                 0\n",
       "Flight Distance                       0\n",
       "Inflight wifi service                 0\n",
       "Departure/Arrival time convenient     0\n",
       "Ease of Online booking                0\n",
       "Gate location                         0\n",
       "Food and drink                        0\n",
       "Online boarding                       0\n",
       "Seat comfort                          0\n",
       "Inflight entertainment                0\n",
       "On-board service                      0\n",
       "Leg room service                      0\n",
       "Baggage handling                      0\n",
       "Checkin service                       0\n",
       "Inflight service                      0\n",
       "Cleanliness                           0\n",
       "Departure Delay in Minutes            0\n",
       "Arrival Delay in Minutes             59\n",
       "dtype: int64"
      ]
     },
     "execution_count": 7,
     "metadata": {},
     "output_type": "execute_result"
    }
   ],
   "source": [
    "data_test.isnull().sum()"
   ]
  },
  {
   "cell_type": "code",
   "execution_count": 9,
   "id": "7298977d",
   "metadata": {},
   "outputs": [
    {
     "data": {
      "text/plain": [
       "id                                   83123\n",
       "Gender                                   2\n",
       "Customer Type                            2\n",
       "Age                                     75\n",
       "Type of Travel                           2\n",
       "Class                                    3\n",
       "Flight Distance                       3769\n",
       "Inflight wifi service                    6\n",
       "Departure/Arrival time convenient        6\n",
       "Ease of Online booking                   6\n",
       "Gate location                            6\n",
       "Food and drink                           6\n",
       "Online boarding                          6\n",
       "Seat comfort                             6\n",
       "Inflight entertainment                   6\n",
       "On-board service                         6\n",
       "Leg room service                         6\n",
       "Baggage handling                         5\n",
       "Checkin service                          6\n",
       "Inflight service                         6\n",
       "Cleanliness                              6\n",
       "Departure Delay in Minutes             419\n",
       "Arrival Delay in Minutes               429\n",
       "satisfaction                             2\n",
       "dtype: int64"
      ]
     },
     "execution_count": 9,
     "metadata": {},
     "output_type": "execute_result"
    }
   ],
   "source": [
    "data_train.nunique()"
   ]
  },
  {
   "cell_type": "code",
   "execution_count": 14,
   "id": "2d393eaf",
   "metadata": {},
   "outputs": [
    {
     "data": {
      "text/html": [
       "<div>\n",
       "<style scoped>\n",
       "    .dataframe tbody tr th:only-of-type {\n",
       "        vertical-align: middle;\n",
       "    }\n",
       "\n",
       "    .dataframe tbody tr th {\n",
       "        vertical-align: top;\n",
       "    }\n",
       "\n",
       "    .dataframe thead th {\n",
       "        text-align: right;\n",
       "    }\n",
       "</style>\n",
       "<table border=\"1\" class=\"dataframe\">\n",
       "  <thead>\n",
       "    <tr style=\"text-align: right;\">\n",
       "      <th></th>\n",
       "      <th>id</th>\n",
       "      <th>Age</th>\n",
       "      <th>Flight Distance</th>\n",
       "      <th>Inflight wifi service</th>\n",
       "      <th>Departure/Arrival time convenient</th>\n",
       "      <th>Ease of Online booking</th>\n",
       "      <th>Gate location</th>\n",
       "      <th>Food and drink</th>\n",
       "      <th>Online boarding</th>\n",
       "      <th>Seat comfort</th>\n",
       "      <th>Inflight entertainment</th>\n",
       "      <th>On-board service</th>\n",
       "      <th>Leg room service</th>\n",
       "      <th>Baggage handling</th>\n",
       "      <th>Checkin service</th>\n",
       "      <th>Inflight service</th>\n",
       "      <th>Cleanliness</th>\n",
       "      <th>Departure Delay in Minutes</th>\n",
       "      <th>Arrival Delay in Minutes</th>\n",
       "    </tr>\n",
       "  </thead>\n",
       "  <tbody>\n",
       "    <tr>\n",
       "      <th>count</th>\n",
       "      <td>83123.000000</td>\n",
       "      <td>83123.000000</td>\n",
       "      <td>83123.000000</td>\n",
       "      <td>83123.000000</td>\n",
       "      <td>83123.000000</td>\n",
       "      <td>83123.000000</td>\n",
       "      <td>83123.000000</td>\n",
       "      <td>83123.000000</td>\n",
       "      <td>83123.000000</td>\n",
       "      <td>83123.000000</td>\n",
       "      <td>83123.000000</td>\n",
       "      <td>83123.000000</td>\n",
       "      <td>83123.000000</td>\n",
       "      <td>83123.000000</td>\n",
       "      <td>83123.000000</td>\n",
       "      <td>83123.000000</td>\n",
       "      <td>83123.000000</td>\n",
       "      <td>83123.000000</td>\n",
       "      <td>82872.000000</td>\n",
       "    </tr>\n",
       "    <tr>\n",
       "      <th>mean</th>\n",
       "      <td>64971.539574</td>\n",
       "      <td>39.351106</td>\n",
       "      <td>1190.686753</td>\n",
       "      <td>2.732553</td>\n",
       "      <td>3.062269</td>\n",
       "      <td>2.756385</td>\n",
       "      <td>2.978057</td>\n",
       "      <td>3.205286</td>\n",
       "      <td>3.252842</td>\n",
       "      <td>3.442790</td>\n",
       "      <td>3.362992</td>\n",
       "      <td>3.383636</td>\n",
       "      <td>3.351407</td>\n",
       "      <td>3.634313</td>\n",
       "      <td>3.308194</td>\n",
       "      <td>3.643865</td>\n",
       "      <td>3.291351</td>\n",
       "      <td>14.714556</td>\n",
       "      <td>15.063121</td>\n",
       "    </tr>\n",
       "    <tr>\n",
       "      <th>std</th>\n",
       "      <td>37465.886717</td>\n",
       "      <td>15.099487</td>\n",
       "      <td>998.640016</td>\n",
       "      <td>1.329950</td>\n",
       "      <td>1.526983</td>\n",
       "      <td>1.401047</td>\n",
       "      <td>1.279064</td>\n",
       "      <td>1.330482</td>\n",
       "      <td>1.350905</td>\n",
       "      <td>1.318317</td>\n",
       "      <td>1.331880</td>\n",
       "      <td>1.287778</td>\n",
       "      <td>1.313365</td>\n",
       "      <td>1.178930</td>\n",
       "      <td>1.264747</td>\n",
       "      <td>1.173351</td>\n",
       "      <td>1.313560</td>\n",
       "      <td>38.108874</td>\n",
       "      <td>38.475487</td>\n",
       "    </tr>\n",
       "    <tr>\n",
       "      <th>min</th>\n",
       "      <td>1.000000</td>\n",
       "      <td>7.000000</td>\n",
       "      <td>31.000000</td>\n",
       "      <td>0.000000</td>\n",
       "      <td>0.000000</td>\n",
       "      <td>0.000000</td>\n",
       "      <td>0.000000</td>\n",
       "      <td>0.000000</td>\n",
       "      <td>0.000000</td>\n",
       "      <td>0.000000</td>\n",
       "      <td>0.000000</td>\n",
       "      <td>0.000000</td>\n",
       "      <td>0.000000</td>\n",
       "      <td>1.000000</td>\n",
       "      <td>0.000000</td>\n",
       "      <td>0.000000</td>\n",
       "      <td>0.000000</td>\n",
       "      <td>0.000000</td>\n",
       "      <td>0.000000</td>\n",
       "    </tr>\n",
       "    <tr>\n",
       "      <th>25%</th>\n",
       "      <td>32552.500000</td>\n",
       "      <td>27.000000</td>\n",
       "      <td>413.000000</td>\n",
       "      <td>2.000000</td>\n",
       "      <td>2.000000</td>\n",
       "      <td>2.000000</td>\n",
       "      <td>2.000000</td>\n",
       "      <td>2.000000</td>\n",
       "      <td>2.000000</td>\n",
       "      <td>2.000000</td>\n",
       "      <td>2.000000</td>\n",
       "      <td>2.000000</td>\n",
       "      <td>2.000000</td>\n",
       "      <td>3.000000</td>\n",
       "      <td>3.000000</td>\n",
       "      <td>3.000000</td>\n",
       "      <td>2.000000</td>\n",
       "      <td>0.000000</td>\n",
       "      <td>0.000000</td>\n",
       "    </tr>\n",
       "    <tr>\n",
       "      <th>50%</th>\n",
       "      <td>64864.000000</td>\n",
       "      <td>40.000000</td>\n",
       "      <td>844.000000</td>\n",
       "      <td>3.000000</td>\n",
       "      <td>3.000000</td>\n",
       "      <td>3.000000</td>\n",
       "      <td>3.000000</td>\n",
       "      <td>3.000000</td>\n",
       "      <td>3.000000</td>\n",
       "      <td>4.000000</td>\n",
       "      <td>4.000000</td>\n",
       "      <td>4.000000</td>\n",
       "      <td>4.000000</td>\n",
       "      <td>4.000000</td>\n",
       "      <td>3.000000</td>\n",
       "      <td>4.000000</td>\n",
       "      <td>3.000000</td>\n",
       "      <td>0.000000</td>\n",
       "      <td>0.000000</td>\n",
       "    </tr>\n",
       "    <tr>\n",
       "      <th>75%</th>\n",
       "      <td>97430.500000</td>\n",
       "      <td>51.000000</td>\n",
       "      <td>1744.000000</td>\n",
       "      <td>4.000000</td>\n",
       "      <td>4.000000</td>\n",
       "      <td>4.000000</td>\n",
       "      <td>4.000000</td>\n",
       "      <td>4.000000</td>\n",
       "      <td>4.000000</td>\n",
       "      <td>5.000000</td>\n",
       "      <td>4.000000</td>\n",
       "      <td>4.000000</td>\n",
       "      <td>4.000000</td>\n",
       "      <td>5.000000</td>\n",
       "      <td>4.000000</td>\n",
       "      <td>5.000000</td>\n",
       "      <td>4.000000</td>\n",
       "      <td>12.000000</td>\n",
       "      <td>13.000000</td>\n",
       "    </tr>\n",
       "    <tr>\n",
       "      <th>max</th>\n",
       "      <td>129880.000000</td>\n",
       "      <td>85.000000</td>\n",
       "      <td>4983.000000</td>\n",
       "      <td>5.000000</td>\n",
       "      <td>5.000000</td>\n",
       "      <td>5.000000</td>\n",
       "      <td>5.000000</td>\n",
       "      <td>5.000000</td>\n",
       "      <td>5.000000</td>\n",
       "      <td>5.000000</td>\n",
       "      <td>5.000000</td>\n",
       "      <td>5.000000</td>\n",
       "      <td>5.000000</td>\n",
       "      <td>5.000000</td>\n",
       "      <td>5.000000</td>\n",
       "      <td>5.000000</td>\n",
       "      <td>5.000000</td>\n",
       "      <td>1592.000000</td>\n",
       "      <td>1584.000000</td>\n",
       "    </tr>\n",
       "  </tbody>\n",
       "</table>\n",
       "</div>"
      ],
      "text/plain": [
       "                  id           Age  Flight Distance  Inflight wifi service  \\\n",
       "count   83123.000000  83123.000000     83123.000000           83123.000000   \n",
       "mean    64971.539574     39.351106      1190.686753               2.732553   \n",
       "std     37465.886717     15.099487       998.640016               1.329950   \n",
       "min         1.000000      7.000000        31.000000               0.000000   \n",
       "25%     32552.500000     27.000000       413.000000               2.000000   \n",
       "50%     64864.000000     40.000000       844.000000               3.000000   \n",
       "75%     97430.500000     51.000000      1744.000000               4.000000   \n",
       "max    129880.000000     85.000000      4983.000000               5.000000   \n",
       "\n",
       "       Departure/Arrival time convenient  Ease of Online booking  \\\n",
       "count                       83123.000000            83123.000000   \n",
       "mean                            3.062269                2.756385   \n",
       "std                             1.526983                1.401047   \n",
       "min                             0.000000                0.000000   \n",
       "25%                             2.000000                2.000000   \n",
       "50%                             3.000000                3.000000   \n",
       "75%                             4.000000                4.000000   \n",
       "max                             5.000000                5.000000   \n",
       "\n",
       "       Gate location  Food and drink  Online boarding  Seat comfort  \\\n",
       "count   83123.000000    83123.000000     83123.000000  83123.000000   \n",
       "mean        2.978057        3.205286         3.252842      3.442790   \n",
       "std         1.279064        1.330482         1.350905      1.318317   \n",
       "min         0.000000        0.000000         0.000000      0.000000   \n",
       "25%         2.000000        2.000000         2.000000      2.000000   \n",
       "50%         3.000000        3.000000         3.000000      4.000000   \n",
       "75%         4.000000        4.000000         4.000000      5.000000   \n",
       "max         5.000000        5.000000         5.000000      5.000000   \n",
       "\n",
       "       Inflight entertainment  On-board service  Leg room service  \\\n",
       "count            83123.000000      83123.000000      83123.000000   \n",
       "mean                 3.362992          3.383636          3.351407   \n",
       "std                  1.331880          1.287778          1.313365   \n",
       "min                  0.000000          0.000000          0.000000   \n",
       "25%                  2.000000          2.000000          2.000000   \n",
       "50%                  4.000000          4.000000          4.000000   \n",
       "75%                  4.000000          4.000000          4.000000   \n",
       "max                  5.000000          5.000000          5.000000   \n",
       "\n",
       "       Baggage handling  Checkin service  Inflight service   Cleanliness  \\\n",
       "count      83123.000000     83123.000000      83123.000000  83123.000000   \n",
       "mean           3.634313         3.308194          3.643865      3.291351   \n",
       "std            1.178930         1.264747          1.173351      1.313560   \n",
       "min            1.000000         0.000000          0.000000      0.000000   \n",
       "25%            3.000000         3.000000          3.000000      2.000000   \n",
       "50%            4.000000         3.000000          4.000000      3.000000   \n",
       "75%            5.000000         4.000000          5.000000      4.000000   \n",
       "max            5.000000         5.000000          5.000000      5.000000   \n",
       "\n",
       "       Departure Delay in Minutes  Arrival Delay in Minutes  \n",
       "count                83123.000000              82872.000000  \n",
       "mean                    14.714556                 15.063121  \n",
       "std                     38.108874                 38.475487  \n",
       "min                      0.000000                  0.000000  \n",
       "25%                      0.000000                  0.000000  \n",
       "50%                      0.000000                  0.000000  \n",
       "75%                     12.000000                 13.000000  \n",
       "max                   1592.000000               1584.000000  "
      ]
     },
     "execution_count": 14,
     "metadata": {},
     "output_type": "execute_result"
    }
   ],
   "source": [
    "data_train.describe()"
   ]
  },
  {
   "cell_type": "code",
   "execution_count": 22,
   "id": "6f925b54",
   "metadata": {},
   "outputs": [
    {
     "name": "stderr",
     "output_type": "stream",
     "text": [
      "C:\\Users\\gargi\\AppData\\Local\\Temp\\ipykernel_21612\\3869386678.py:1: FutureWarning: Dropping of nuisance columns in DataFrame reductions (with 'numeric_only=None') is deprecated; in a future version this will raise TypeError.  Select only valid columns before calling the reduction.\n",
      "  data_train.skew()\n"
     ]
    },
    {
     "data": {
      "text/plain": [
       "id                                   0.002264\n",
       "Age                                 -0.006553\n",
       "Flight Distance                      1.108657\n",
       "Inflight wifi service                0.038675\n",
       "Departure/Arrival time convenient   -0.335497\n",
       "Ease of Online booking              -0.018196\n",
       "Gate location                       -0.059396\n",
       "Food and drink                      -0.152690\n",
       "Online boarding                     -0.457685\n",
       "Seat comfort                        -0.486340\n",
       "Inflight entertainment              -0.367411\n",
       "On-board service                    -0.419734\n",
       "Leg room service                    -0.349383\n",
       "Baggage handling                    -0.677718\n",
       "Checkin service                     -0.367859\n",
       "Inflight service                    -0.691739\n",
       "Cleanliness                         -0.302929\n",
       "Departure Delay in Minutes           6.980063\n",
       "Arrival Delay in Minutes             6.829916\n",
       "dtype: float64"
      ]
     },
     "execution_count": 22,
     "metadata": {},
     "output_type": "execute_result"
    }
   ],
   "source": [
    "data_train.skew()"
   ]
  },
  {
   "cell_type": "code",
   "execution_count": 21,
   "id": "fba4a0e5",
   "metadata": {},
   "outputs": [
    {
     "data": {
      "image/png": "[encoded data removed]",
      "text/plain": [
       "<Figure size 432x288 with 1 Axes>"
      ]
     },
     "metadata": {
      "needs_background": "light"
     },
     "output_type": "display_data"
    }
   ],
   "source": [
    "# Plot a displot on target variable\n",
    "sns.countplot(x='satisfaction', data=data_train)\n",
    "plt.show()"
   ]
  },
  {
   "cell_type": "code",
   "execution_count": 31,
   "id": "85c878b9",
   "metadata": {},
   "outputs": [
    {
     "data": {
      "image/png": "[encoded data removed]",
      "text/plain": [
       "<Figure size 432x288 with 1 Axes>"
      ]
     },
     "metadata": {
      "needs_background": "light"
     },
     "output_type": "display_data"
    }
   ],
   "source": [
    "sns.barplot(x = 'satisfaction', y = 'Age', data = data_train, ci = None)\n",
    "plt.title('Relation between Passenger_Satisfaction and Age')\n",
    "plt.show()"
   ]
  },
  {
   "cell_type": "code",
   "execution_count": 32,
   "id": "ddcab02f",
   "metadata": {},
   "outputs": [
    {
     "data": {
      "image/png": "[encoded data removed]",
      "text/plain": [
       "<Figure size 432x288 with 1 Axes>"
      ]
     },
     "metadata": {
      "needs_background": "light"
     },
     "output_type": "display_data"
    }
   ],
   "source": [
    "sns.barplot(x = 'satisfaction', y = 'Flight Distance', data = data_train, ci = None)\n",
    "plt.title('Relation between Passenger_Satisfaction and Age')\n",
    "plt.show()"
   ]
  },
  {
   "cell_type": "code",
   "execution_count": 33,
   "id": "e14c825d",
   "metadata": {},
   "outputs": [
    {
     "data": {
      "text/plain": [
       "<AxesSubplot:>"
      ]
     },
     "execution_count": 33,
     "metadata": {},
     "output_type": "execute_result"
    },
    {
     "data": {
      "image/png": "[encoded data removed]",
      "text/plain": [
       "<Figure size 720x720 with 2 Axes>"
      ]
     },
     "metadata": {
      "needs_background": "light"
     },
     "output_type": "display_data"
    }
   ],
   "source": [
    "corr_mat = data_train.corr().round(2)\n",
    "plt.figure(figsize=(10,10))\n",
    "sns.heatmap(corr_mat, annot=True, cmap='viridis')"
   ]
  },
  {
   "cell_type": "code",
   "execution_count": 36,
   "id": "4ffb312f",
   "metadata": {},
   "outputs": [],
   "source": [
    "x = data_train.iloc[:,1:22]\n",
    "y = data_train['satisfaction']"
   ]
  },
  {
   "cell_type": "code",
   "execution_count": 37,
   "id": "e54073f7",
   "metadata": {},
   "outputs": [],
   "source": [
    "from sklearn.model_selection import train_test_split, RandomizedSearchCV"
   ]
  },
  {
   "cell_type": "code",
   "execution_count": 38,
   "id": "1baafc26",
   "metadata": {},
   "outputs": [
    {
     "data": {
      "text/html": [
       "<div>\n",
       "<style scoped>\n",
       "    .dataframe tbody tr th:only-of-type {\n",
       "        vertical-align: middle;\n",
       "    }\n",
       "\n",
       "    .dataframe tbody tr th {\n",
       "        vertical-align: top;\n",
       "    }\n",
       "\n",
       "    .dataframe thead th {\n",
       "        text-align: right;\n",
       "    }\n",
       "</style>\n",
       "<table border=\"1\" class=\"dataframe\">\n",
       "  <thead>\n",
       "    <tr style=\"text-align: right;\">\n",
       "      <th></th>\n",
       "      <th>Gender</th>\n",
       "      <th>Customer Type</th>\n",
       "      <th>Age</th>\n",
       "      <th>Type of Travel</th>\n",
       "      <th>Class</th>\n",
       "      <th>Flight Distance</th>\n",
       "      <th>Inflight wifi service</th>\n",
       "      <th>Departure/Arrival time convenient</th>\n",
       "      <th>Ease of Online booking</th>\n",
       "      <th>Gate location</th>\n",
       "      <th>...</th>\n",
       "      <th>Online boarding</th>\n",
       "      <th>Seat comfort</th>\n",
       "      <th>Inflight entertainment</th>\n",
       "      <th>On-board service</th>\n",
       "      <th>Leg room service</th>\n",
       "      <th>Baggage handling</th>\n",
       "      <th>Checkin service</th>\n",
       "      <th>Inflight service</th>\n",
       "      <th>Cleanliness</th>\n",
       "      <th>Departure Delay in Minutes</th>\n",
       "    </tr>\n",
       "  </thead>\n",
       "  <tbody>\n",
       "    <tr>\n",
       "      <th>55397</th>\n",
       "      <td>Male</td>\n",
       "      <td>Loyal Customer</td>\n",
       "      <td>51</td>\n",
       "      <td>Business travel</td>\n",
       "      <td>Business</td>\n",
       "      <td>2586</td>\n",
       "      <td>3</td>\n",
       "      <td>3</td>\n",
       "      <td>3</td>\n",
       "      <td>3</td>\n",
       "      <td>...</td>\n",
       "      <td>1</td>\n",
       "      <td>2</td>\n",
       "      <td>3</td>\n",
       "      <td>3</td>\n",
       "      <td>3</td>\n",
       "      <td>3</td>\n",
       "      <td>1</td>\n",
       "      <td>3</td>\n",
       "      <td>2</td>\n",
       "      <td>3</td>\n",
       "    </tr>\n",
       "    <tr>\n",
       "      <th>6458</th>\n",
       "      <td>Female</td>\n",
       "      <td>disloyal Customer</td>\n",
       "      <td>22</td>\n",
       "      <td>Business travel</td>\n",
       "      <td>Eco</td>\n",
       "      <td>571</td>\n",
       "      <td>3</td>\n",
       "      <td>0</td>\n",
       "      <td>2</td>\n",
       "      <td>3</td>\n",
       "      <td>...</td>\n",
       "      <td>2</td>\n",
       "      <td>4</td>\n",
       "      <td>4</td>\n",
       "      <td>4</td>\n",
       "      <td>1</td>\n",
       "      <td>4</td>\n",
       "      <td>4</td>\n",
       "      <td>5</td>\n",
       "      <td>4</td>\n",
       "      <td>0</td>\n",
       "    </tr>\n",
       "    <tr>\n",
       "      <th>28889</th>\n",
       "      <td>Female</td>\n",
       "      <td>Loyal Customer</td>\n",
       "      <td>54</td>\n",
       "      <td>Business travel</td>\n",
       "      <td>Business</td>\n",
       "      <td>1587</td>\n",
       "      <td>5</td>\n",
       "      <td>5</td>\n",
       "      <td>5</td>\n",
       "      <td>5</td>\n",
       "      <td>...</td>\n",
       "      <td>5</td>\n",
       "      <td>4</td>\n",
       "      <td>4</td>\n",
       "      <td>4</td>\n",
       "      <td>5</td>\n",
       "      <td>4</td>\n",
       "      <td>3</td>\n",
       "      <td>4</td>\n",
       "      <td>4</td>\n",
       "      <td>0</td>\n",
       "    </tr>\n",
       "    <tr>\n",
       "      <th>67055</th>\n",
       "      <td>Male</td>\n",
       "      <td>disloyal Customer</td>\n",
       "      <td>27</td>\n",
       "      <td>Business travel</td>\n",
       "      <td>Eco</td>\n",
       "      <td>147</td>\n",
       "      <td>1</td>\n",
       "      <td>2</td>\n",
       "      <td>1</td>\n",
       "      <td>3</td>\n",
       "      <td>...</td>\n",
       "      <td>1</td>\n",
       "      <td>4</td>\n",
       "      <td>4</td>\n",
       "      <td>1</td>\n",
       "      <td>4</td>\n",
       "      <td>4</td>\n",
       "      <td>2</td>\n",
       "      <td>3</td>\n",
       "      <td>4</td>\n",
       "      <td>41</td>\n",
       "    </tr>\n",
       "    <tr>\n",
       "      <th>1970</th>\n",
       "      <td>Female</td>\n",
       "      <td>Loyal Customer</td>\n",
       "      <td>46</td>\n",
       "      <td>Personal Travel</td>\n",
       "      <td>Eco</td>\n",
       "      <td>372</td>\n",
       "      <td>2</td>\n",
       "      <td>5</td>\n",
       "      <td>2</td>\n",
       "      <td>3</td>\n",
       "      <td>...</td>\n",
       "      <td>5</td>\n",
       "      <td>5</td>\n",
       "      <td>3</td>\n",
       "      <td>3</td>\n",
       "      <td>2</td>\n",
       "      <td>3</td>\n",
       "      <td>1</td>\n",
       "      <td>3</td>\n",
       "      <td>2</td>\n",
       "      <td>0</td>\n",
       "    </tr>\n",
       "  </tbody>\n",
       "</table>\n",
       "<p>5 rows × 21 columns</p>\n",
       "</div>"
      ],
      "text/plain": [
       "       Gender      Customer Type  Age   Type of Travel     Class  \\\n",
       "55397    Male     Loyal Customer   51  Business travel  Business   \n",
       "6458   Female  disloyal Customer   22  Business travel       Eco   \n",
       "28889  Female     Loyal Customer   54  Business travel  Business   \n",
       "67055    Male  disloyal Customer   27  Business travel       Eco   \n",
       "1970   Female     Loyal Customer   46  Personal Travel       Eco   \n",
       "\n",
       "       Flight Distance  Inflight wifi service  \\\n",
       "55397             2586                      3   \n",
       "6458               571                      3   \n",
       "28889             1587                      5   \n",
       "67055              147                      1   \n",
       "1970               372                      2   \n",
       "\n",
       "       Departure/Arrival time convenient  Ease of Online booking  \\\n",
       "55397                                  3                       3   \n",
       "6458                                   0                       2   \n",
       "28889                                  5                       5   \n",
       "67055                                  2                       1   \n",
       "1970                                   5                       2   \n",
       "\n",
       "       Gate location  ...  Online boarding  Seat comfort  \\\n",
       "55397              3  ...                1             2   \n",
       "6458               3  ...                2             4   \n",
       "28889              5  ...                5             4   \n",
       "67055              3  ...                1             4   \n",
       "1970               3  ...                5             5   \n",
       "\n",
       "       Inflight entertainment  On-board service  Leg room service  \\\n",
       "55397                       3                 3                 3   \n",
       "6458                        4                 4                 1   \n",
       "28889                       4                 4                 5   \n",
       "67055                       4                 1                 4   \n",
       "1970                        3                 3                 2   \n",
       "\n",
       "       Baggage handling  Checkin service  Inflight service  Cleanliness  \\\n",
       "55397                 3                1                 3            2   \n",
       "6458                  4                4                 5            4   \n",
       "28889                 4                3                 4            4   \n",
       "67055                 4                2                 3            4   \n",
       "1970                  3                1                 3            2   \n",
       "\n",
       "       Departure Delay in Minutes  \n",
       "55397                           3  \n",
       "6458                            0  \n",
       "28889                           0  \n",
       "67055                          41  \n",
       "1970                            0  \n",
       "\n",
       "[5 rows x 21 columns]"
      ]
     },
     "execution_count": 38,
     "metadata": {},
     "output_type": "execute_result"
    }
   ],
   "source": [
    "x_train, x_test, y_train, y_test = train_test_split(x,y,test_size = 0.3, random_state = 123)\n",
    "x_train.head()"
   ]
  },
  {
   "cell_type": "code",
   "execution_count": 40,
   "id": "935f5480",
   "metadata": {},
   "outputs": [],
   "source": [
    "#categorial colums \n",
    "x_train_cat = x_train.select_dtypes(include =[\"object\"])\n",
    "x_test_cat = x_test.select_dtypes(include=[\"object\"])"
   ]
  },
  {
   "cell_type": "code",
   "execution_count": 39,
   "id": "fb74b43e",
   "metadata": {},
   "outputs": [],
   "source": [
    "# numeric Columns \n",
    "x_train_con = x_train.select_dtypes(exclude =[\"object\"])\n",
    "x_test_con = x_test.select_dtypes(exclude=[\"object\"])"
   ]
  },
  {
   "cell_type": "code",
   "execution_count": 41,
   "id": "3083feb2",
   "metadata": {},
   "outputs": [
    {
     "data": {
      "text/plain": [
       "[array(['Female', 'Male'], dtype=object),\n",
       " array(['Loyal Customer', 'disloyal Customer'], dtype=object),\n",
       " array(['Business travel', 'Personal Travel'], dtype=object),\n",
       " array(['Business', 'Eco', 'Eco Plus'], dtype=object)]"
      ]
     },
     "execution_count": 41,
     "metadata": {},
     "output_type": "execute_result"
    }
   ],
   "source": [
    "#One Hot Encoding\n",
    "from sklearn.preprocessing import OneHotEncoder\n",
    "enc = OneHotEncoder(drop='first', sparse = False)\n",
    "enc.fit(x_train_cat)\n",
    "enc.fit(x_train_cat)\n",
    "\n",
    "enc.categories_"
   ]
  },
  {
   "cell_type": "code",
   "execution_count": 42,
   "id": "f1f4e22c",
   "metadata": {},
   "outputs": [],
   "source": [
    "#transform train and test data using OHE\n",
    "X_train_OHE = pd.DataFrame(enc.transform(x_train_cat), columns = enc.get_feature_names_out(x_train_cat.columns), index = x_train_cat.index)\n",
    "X_test_OHE = pd.DataFrame(enc.transform(x_test_cat), columns = enc.get_feature_names_out(x_train_cat.columns), index = x_test_cat.index)\n"
   ]
  },
  {
   "cell_type": "code",
   "execution_count": 43,
   "id": "3469e523",
   "metadata": {},
   "outputs": [],
   "source": [
    "X_train_comb = pd.concat([X_train_OHE,x_train_con], axis=1)\n",
    "X_test_comb = pd.concat([X_test_OHE,x_test_con], axis=1)"
   ]
  },
  {
   "cell_type": "code",
   "execution_count": 49,
   "id": "91cdb981",
   "metadata": {},
   "outputs": [],
   "source": [
    "from sklearn.ensemble import RandomForestClassifier\n",
    "from sklearn.metrics import accuracy_score, classification_report, confusion_matrix"
   ]
  },
  {
   "cell_type": "code",
   "execution_count": 45,
   "id": "8ff1af68",
   "metadata": {},
   "outputs": [
    {
     "name": "stderr",
     "output_type": "stream",
     "text": [
      "[Parallel(n_jobs=1)]: Using backend SequentialBackend with 1 concurrent workers.\n",
      "[Parallel(n_jobs=1)]: Done 100 out of 100 | elapsed:    5.1s finished\n",
      "[Parallel(n_jobs=1)]: Using backend SequentialBackend with 1 concurrent workers.\n",
      "[Parallel(n_jobs=1)]: Done 100 out of 100 | elapsed:    0.8s finished\n",
      "[Parallel(n_jobs=1)]: Using backend SequentialBackend with 1 concurrent workers.\n",
      "[Parallel(n_jobs=1)]: Done 100 out of 100 | elapsed:    0.3s finished\n"
     ]
    }
   ],
   "source": [
    "rf = RandomForestClassifier(verbose = 1, random_state = 123) \n",
    "rf.fit(X_train_comb,y_train)\n",
    "peds_rf_train = rf.predict(X_train_comb)\n",
    "peds_rf_test = rf.predict(X_test_comb)"
   ]
  },
  {
   "cell_type": "code",
   "execution_count": 47,
   "id": "57dd9826",
   "metadata": {},
   "outputs": [],
   "source": [
    "def model_evaluation(actual, predicted):\n",
    "    \n",
    "    acc_score = accuracy_score(actual,predicted)\n",
    "    cm_matrix = confusion_matrix(actual, predicted)\n",
    "    clas_rep = classification_report(actual, predicted)\n",
    "    \n",
    "    print(\"Accuracy Score : \", round(acc_score,2))\n",
    "    print(\"Confusion Matrix : \")\n",
    "    print(cm_matrix)\n",
    "    \n",
    "    print(clas_rep)     "
   ]
  },
  {
   "cell_type": "code",
   "execution_count": 50,
   "id": "d8b1ed77",
   "metadata": {},
   "outputs": [
    {
     "name": "stdout",
     "output_type": "stream",
     "text": [
      "Accuracy Score :  1.0\n",
      "Confusion Matrix : \n",
      "[[32880     0]\n",
      " [    0 25306]]\n",
      "                         precision    recall  f1-score   support\n",
      "\n",
      "neutral or dissatisfied       1.00      1.00      1.00     32880\n",
      "              satisfied       1.00      1.00      1.00     25306\n",
      "\n",
      "               accuracy                           1.00     58186\n",
      "              macro avg       1.00      1.00      1.00     58186\n",
      "           weighted avg       1.00      1.00      1.00     58186\n",
      "\n"
     ]
    }
   ],
   "source": [
    "model_evaluation(y_train, peds_rf_train)"
   ]
  },
  {
   "cell_type": "code",
   "execution_count": 51,
   "id": "5ca9f411",
   "metadata": {},
   "outputs": [
    {
     "name": "stdout",
     "output_type": "stream",
     "text": [
      "Accuracy Score :  0.96\n",
      "Confusion Matrix : \n",
      "[[13806   318]\n",
      " [  693 10120]]\n",
      "                         precision    recall  f1-score   support\n",
      "\n",
      "neutral or dissatisfied       0.95      0.98      0.96     14124\n",
      "              satisfied       0.97      0.94      0.95     10813\n",
      "\n",
      "               accuracy                           0.96     24937\n",
      "              macro avg       0.96      0.96      0.96     24937\n",
      "           weighted avg       0.96      0.96      0.96     24937\n",
      "\n"
     ]
    }
   ],
   "source": [
    "model_evaluation(y_test, peds_rf_test)"
   ]
  },
  {
   "cell_type": "code",
   "execution_count": 53,
   "id": "766129ec",
   "metadata": {},
   "outputs": [
    {
     "data": {
      "text/plain": [
       "id                                    0\n",
       "Gender                                0\n",
       "Customer Type                         0\n",
       "Age                                   0\n",
       "Type of Travel                        0\n",
       "Class                                 0\n",
       "Flight Distance                       0\n",
       "Inflight wifi service                 0\n",
       "Departure/Arrival time convenient     0\n",
       "Ease of Online booking                0\n",
       "Gate location                         0\n",
       "Food and drink                        0\n",
       "Online boarding                       0\n",
       "Seat comfort                          0\n",
       "Inflight entertainment                0\n",
       "On-board service                      0\n",
       "Leg room service                      0\n",
       "Baggage handling                      0\n",
       "Checkin service                       0\n",
       "Inflight service                      0\n",
       "Cleanliness                           0\n",
       "Departure Delay in Minutes            0\n",
       "Arrival Delay in Minutes             59\n",
       "dtype: int64"
      ]
     },
     "execution_count": 53,
     "metadata": {},
     "output_type": "execute_result"
    }
   ],
   "source": [
    "data_test.isnull().sum()"
   ]
  },
  {
   "cell_type": "code",
   "execution_count": 55,
   "id": "348c3070",
   "metadata": {},
   "outputs": [],
   "source": [
    "data_test1 = data_test.copy()\n",
    "data_test1 = data_test1.drop(['id','Arrival Delay in Minutes'], axis = 1)\n",
    "test_cat = data_test1.select_dtypes(include=['object'])\n",
    "test_cont = data_test1.select_dtypes(exclude=['object'])\n",
    "test_OHE = pd.DataFrame(enc.transform(test_cat), columns = enc.get_feature_names_out(test_cat.columns), index = test_cat.index)\n",
    "\n",
    "test_comb = pd.concat([test_OHE,test_cont], axis=1)"
   ]
  },
  {
   "cell_type": "code",
   "execution_count": 56,
   "id": "180547e9",
   "metadata": {},
   "outputs": [
    {
     "name": "stderr",
     "output_type": "stream",
     "text": [
      "[Parallel(n_jobs=1)]: Using backend SequentialBackend with 1 concurrent workers.\n",
      "[Parallel(n_jobs=1)]: Done 100 out of 100 | elapsed:    0.2s finished\n"
     ]
    }
   ],
   "source": [
    "pred_satisfaction = rf.predict(test_comb)\n",
    "df = pd.DataFrame(data = pred_satisfaction)\n",
    "df.columns = ['satisfaction']"
   ]
  },
  {
   "cell_type": "code",
   "execution_count": 58,
   "id": "88de2012",
   "metadata": {},
   "outputs": [],
   "source": [
    "submission_df = pd.DataFrame(data = data_test, columns = [\"id\"])\n",
    "submission_df['satisfaction'] = df['satisfaction']\n"
   ]
  },
  {
   "cell_type": "code",
   "execution_count": 60,
   "id": "5386e264",
   "metadata": {},
   "outputs": [
    {
     "name": "stdout",
     "output_type": "stream",
     "text": [
      "<class 'pandas.core.frame.DataFrame'>\n",
      "RangeIndex: 20781 entries, 0 to 20780\n",
      "Data columns (total 2 columns):\n",
      " #   Column        Non-Null Count  Dtype \n",
      "---  ------        --------------  ----- \n",
      " 0   id            20781 non-null  int64 \n",
      " 1   satisfaction  20781 non-null  object\n",
      "dtypes: int64(1), object(1)\n",
      "memory usage: 324.8+ KB\n"
     ]
    }
   ],
   "source": [
    "submission_df.info()\n"
   ]
  },
  {
   "cell_type": "code",
   "execution_count": 61,
   "id": "3a3a8dc3",
   "metadata": {},
   "outputs": [],
   "source": [
    "submission_df.to_csv(\"Submission.csv\", index = False, header = False)"
   ]
  },
  {
   "cell_type": "code",
   "execution_count": null,
   "id": "7d6b144a",
   "metadata": {},
   "outputs": [],
   "source": []
  }
 ],
 "metadata": {
  "kernelspec": {
   "display_name": "Python 3 (ipykernel)",
   "language": "python",
   "name": "python3"
  },
  "language_info": {
   "codemirror_mode": {
    "name": "ipython",
    "version": 3
   },
   "file_extension": ".py",
   "mimetype": "text/x-python",
   "name": "python",
   "nbconvert_exporter": "python",
   "pygments_lexer": "ipython3",
   "version": "3.9.12"
  }
 },
 "nbformat": 4,
 "nbformat_minor": 5
}
